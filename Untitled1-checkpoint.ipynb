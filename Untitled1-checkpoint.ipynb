{
 "cells": [
  {
   "cell_type": "code",
   "execution_count": 1,
   "id": "3fdd5f26-a162-4c76-a694-6390dfb965c5",
   "metadata": {},
   "outputs": [
    {
     "name": "stdout",
     "output_type": "stream",
     "text": [
      "        duration_sec start_time end_time  start_station_id  \\\n",
      "0              50305    33:55.2  32:20.5             368.0   \n",
      "1              53725    43:41.6  39:06.9             246.0   \n",
      "2              78072    32:46.5  13:59.0              64.0   \n",
      "3              78969    00:51.5  57:01.3              67.0   \n",
      "4               1128    59:04.7  17:53.1             124.0   \n",
      "...              ...        ...      ...               ...   \n",
      "239106           184    09:17.6  12:22.5             133.0   \n",
      "239107           539    03:02.6  12:02.1              78.0   \n",
      "239108           292    06:04.2  10:57.0             243.0   \n",
      "239109           471    01:38.4  09:30.0             370.0   \n",
      "239110           356    00:28.7  06:25.1              14.0   \n",
      "\n",
      "                                       start_station_name  \\\n",
      "0                                    Myrtle St at Polk St   \n",
      "1                                   Berkeley Civic Center   \n",
      "2                                    5th St at Brannan St   \n",
      "3       San Francisco Caltrain Station 2  (Townsend St...   \n",
      "4                                   19th St at Florida St   \n",
      "...                                                   ...   \n",
      "239106                             Valencia St at 22nd St   \n",
      "239107                                Folsom St at 9th St   \n",
      "239108                        Bancroft Way at College Ave   \n",
      "239109                                Jones St at Post St   \n",
      "239110                              Clay St at Battery St   \n",
      "\n",
      "        start_station_latitude  start_station_longitude  end_station_id  \\\n",
      "0                    37.785434              -122.419622           324.0   \n",
      "1                    37.869060              -122.270556           241.0   \n",
      "2                    37.776754              -122.399018            64.0   \n",
      "3                    37.776639              -122.395526            89.0   \n",
      "4                    37.760447              -122.410807             5.0   \n",
      "...                        ...                      ...             ...   \n",
      "239106               37.755213              -122.420975           132.0   \n",
      "239107               37.773717              -122.411647            77.0   \n",
      "239108               37.869360              -122.254337           269.0   \n",
      "239109               37.787327              -122.413278            43.0   \n",
      "239110               37.795001              -122.399970           371.0   \n",
      "\n",
      "                                         end_station_name  \\\n",
      "0                     Union Square (Powell St at Post St)   \n",
      "1                                      Ashby BART Station   \n",
      "2                                    5th St at Brannan St   \n",
      "3                              Division St at Potrero Ave   \n",
      "4            Powell St BART Station (Market St at 5th St)   \n",
      "...                                                   ...   \n",
      "239106                          24th St at Chattanooga St   \n",
      "239107                               11th St at Natoma St   \n",
      "239108                       Telegraph Ave at Carleton St   \n",
      "239109  San Francisco Public Library (Grove St at Hyde...   \n",
      "239110                         Lombard St at Columbus Ave   \n",
      "\n",
      "        end_station_latitude  end_station_longitude  bike_id   user_type  \\\n",
      "0                  37.788300            -122.408531     2749  Subscriber   \n",
      "1                  37.852477            -122.270213     2608    Customer   \n",
      "2                  37.776754            -122.399018      258  Subscriber   \n",
      "3                  37.769218            -122.407646     1974  Subscriber   \n",
      "4                  37.783899            -122.408445      877  Subscriber   \n",
      "...                      ...                    ...      ...         ...   \n",
      "239106             37.751819            -122.426614     6430  Subscriber   \n",
      "239107             37.773507            -122.416040     4972  Subscriber   \n",
      "239108             37.862320            -122.258801     3415  Subscriber   \n",
      "239109             37.778768            -122.415929     5018  Subscriber   \n",
      "239110             37.802746            -122.413579     5956  Subscriber   \n",
      "\n",
      "        member_birth_year member_gender bike_share_for_all_trip  \n",
      "0                  1989.0        Female                      No  \n",
      "1                     NaN           NaN                      No  \n",
      "2                  1993.0          Male                      No  \n",
      "3                  1972.0          Male                      No  \n",
      "4                  1973.0          Male                      No  \n",
      "...                   ...           ...                     ...  \n",
      "239106             1976.0          Male                      No  \n",
      "239107             1981.0          Male                     Yes  \n",
      "239108             1997.0          Male                     Yes  \n",
      "239109             1996.0        Female                     Yes  \n",
      "239110             1970.0          Male                      No  \n",
      "\n",
      "[239111 rows x 16 columns]\n"
     ]
    }
   ],
   "source": [
    "import pandas as pd \n",
    "\n",
    "df = pd.read_csv(\"201904-fordgobike-tripdata.csv\")\n",
    "print (df)"
   ]
  },
  {
   "cell_type": "code",
   "execution_count": 3,
   "id": "4834b521-2ec7-402f-b8f6-f372ecb2fa11",
   "metadata": {},
   "outputs": [
    {
     "name": "stdout",
     "output_type": "stream",
     "text": [
      "        duration_sec  start_station_id  start_station_latitude  \\\n",
      "count  239111.000000     239047.000000           239111.000000   \n",
      "mean      802.671199        141.836538               37.769536   \n",
      "std      1990.006091        116.289776                0.127698   \n",
      "min        61.000000          3.000000                0.000000   \n",
      "25%       349.000000         47.000000               37.770083   \n",
      "50%       558.000000        104.000000               37.780760   \n",
      "75%       876.000000        240.000000               37.797280   \n",
      "max     86114.000000        420.000000               37.880222   \n",
      "\n",
      "       start_station_longitude  end_station_id  end_station_latitude  \\\n",
      "count            239111.000000   239047.000000         239111.000000   \n",
      "mean               -122.352503      140.838099             37.766996   \n",
      "std                   0.277088      116.386168              0.343083   \n",
      "min                -122.453705        3.000000              0.000000   \n",
      "25%                -122.413004       44.000000             37.770407   \n",
      "50%                -122.398285      102.000000             37.780955   \n",
      "75%                -122.291209      239.000000             37.797320   \n",
      "max                   0.000000      420.000000             37.880222   \n",
      "\n",
      "       end_station_longitude        bike_id  member_birth_year  \n",
      "count          239111.000000  239111.000000      227912.000000  \n",
      "mean             -122.343420    3666.956493        1984.863250  \n",
      "std                 1.068144    2180.717333           9.953144  \n",
      "min              -122.453705      11.000000        1878.000000  \n",
      "25%              -122.411738    1720.000000        1980.000000  \n",
      "50%              -122.397437    3471.000000        1987.000000  \n",
      "75%              -122.291376    5749.000000        1992.000000  \n",
      "max                 0.000000    7108.000000        2001.000000  \n"
     ]
    }
   ],
   "source": [
    "print (df.describe())\n"
   ]
  },
  {
   "cell_type": "code",
   "execution_count": 5,
   "id": "a439ef00-cebd-4c54-a86e-8fb0c701c6b9",
   "metadata": {},
   "outputs": [
    {
     "name": "stdout",
     "output_type": "stream",
     "text": [
      "   duration_sec start_time end_time  start_station_id  \\\n",
      "0         50305    33:55.2  32:20.5             368.0   \n",
      "1         53725    43:41.6  39:06.9             246.0   \n",
      "2         78072    32:46.5  13:59.0              64.0   \n",
      "3         78969    00:51.5  57:01.3              67.0   \n",
      "4          1128    59:04.7  17:53.1             124.0   \n",
      "\n",
      "                                  start_station_name  start_station_latitude  \\\n",
      "0                               Myrtle St at Polk St               37.785434   \n",
      "1                              Berkeley Civic Center               37.869060   \n",
      "2                               5th St at Brannan St               37.776754   \n",
      "3  San Francisco Caltrain Station 2  (Townsend St...               37.776639   \n",
      "4                              19th St at Florida St               37.760447   \n",
      "\n",
      "   start_station_longitude  end_station_id  \\\n",
      "0              -122.419622           324.0   \n",
      "1              -122.270556           241.0   \n",
      "2              -122.399018            64.0   \n",
      "3              -122.395526            89.0   \n",
      "4              -122.410807             5.0   \n",
      "\n",
      "                               end_station_name  end_station_latitude  \\\n",
      "0           Union Square (Powell St at Post St)             37.788300   \n",
      "1                            Ashby BART Station             37.852477   \n",
      "2                          5th St at Brannan St             37.776754   \n",
      "3                    Division St at Potrero Ave             37.769218   \n",
      "4  Powell St BART Station (Market St at 5th St)             37.783899   \n",
      "\n",
      "   end_station_longitude  bike_id   user_type  member_birth_year  \\\n",
      "0            -122.408531     2749  Subscriber             1989.0   \n",
      "1            -122.270213     2608    Customer                NaN   \n",
      "2            -122.399018      258  Subscriber             1993.0   \n",
      "3            -122.407646     1974  Subscriber             1972.0   \n",
      "4            -122.408445      877  Subscriber             1973.0   \n",
      "\n",
      "  member_gender bike_share_for_all_trip  \n",
      "0        Female                      No  \n",
      "1           NaN                      No  \n",
      "2          Male                      No  \n",
      "3          Male                      No  \n",
      "4          Male                      No  \n"
     ]
    }
   ],
   "source": [
    "print (df.head())"
   ]
  },
  {
   "cell_type": "code",
   "execution_count": 7,
   "id": "9fb3ca3f-f412-4308-a739-615679b6db75",
   "metadata": {},
   "outputs": [
    {
     "name": "stdout",
     "output_type": "stream",
     "text": [
      "<class 'pandas.core.frame.DataFrame'>\n",
      "RangeIndex: 239111 entries, 0 to 239110\n",
      "Data columns (total 16 columns):\n",
      " #   Column                   Non-Null Count   Dtype  \n",
      "---  ------                   --------------   -----  \n",
      " 0   duration_sec             239111 non-null  int64  \n",
      " 1   start_time               239111 non-null  object \n",
      " 2   end_time                 239111 non-null  object \n",
      " 3   start_station_id         239047 non-null  float64\n",
      " 4   start_station_name       239047 non-null  object \n",
      " 5   start_station_latitude   239111 non-null  float64\n",
      " 6   start_station_longitude  239111 non-null  float64\n",
      " 7   end_station_id           239047 non-null  float64\n",
      " 8   end_station_name         239047 non-null  object \n",
      " 9   end_station_latitude     239111 non-null  float64\n",
      " 10  end_station_longitude    239111 non-null  float64\n",
      " 11  bike_id                  239111 non-null  int64  \n",
      " 12  user_type                239111 non-null  object \n",
      " 13  member_birth_year        227912 non-null  float64\n",
      " 14  member_gender            227912 non-null  object \n",
      " 15  bike_share_for_all_trip  239111 non-null  object \n",
      "dtypes: float64(7), int64(2), object(7)\n",
      "memory usage: 29.2+ MB\n",
      "None\n"
     ]
    }
   ],
   "source": [
    "print (df.info())"
   ]
  },
  {
   "cell_type": "code",
   "execution_count": 9,
   "id": "b763c7f2-6fd5-4050-af19-6eb4b9996b96",
   "metadata": {},
   "outputs": [
    {
     "name": "stdout",
     "output_type": "stream",
     "text": [
      "duration_sec                   0\n",
      "start_time                     0\n",
      "end_time                       0\n",
      "start_station_id              64\n",
      "start_station_name            64\n",
      "start_station_latitude         0\n",
      "start_station_longitude        0\n",
      "end_station_id                64\n",
      "end_station_name              64\n",
      "end_station_latitude           0\n",
      "end_station_longitude          0\n",
      "bike_id                        0\n",
      "user_type                      0\n",
      "member_birth_year          11199\n",
      "member_gender              11199\n",
      "bike_share_for_all_trip        0\n",
      "dtype: int64\n"
     ]
    }
   ],
   "source": [
    "print(df.isnull().sum())"
   ]
  },
  {
   "cell_type": "code",
   "execution_count": 11,
   "id": "95b99695-ea9b-49f6-a17d-7d996f0ed014",
   "metadata": {},
   "outputs": [
    {
     "name": "stdout",
     "output_type": "stream",
     "text": [
      "        duration_sec start_time end_time  start_station_id start_station_name  \\\n",
      "10983           1131    30:48.4  49:39.5               NaN                NaN   \n",
      "11568            268    12:08.9  16:37.9               NaN                NaN   \n",
      "14814            669    02:16.3  13:25.7               NaN                NaN   \n",
      "16067             94    30:12.4  31:46.9               NaN                NaN   \n",
      "17179           2389    24:07.7  03:57.5               NaN                NaN   \n",
      "...              ...        ...      ...               ...                ...   \n",
      "226208           681    27:15.5  38:36.9               NaN                NaN   \n",
      "230020          4803    03:07.5  23:10.7               NaN                NaN   \n",
      "232901         13460    42:15.1  26:35.9               NaN                NaN   \n",
      "234606           229    17:14.6  21:03.9               NaN                NaN   \n",
      "238139           647    50:49.5  01:37.2               NaN                NaN   \n",
      "\n",
      "        start_station_latitude  start_station_longitude  end_station_id  \\\n",
      "10983                    37.41                  -121.95             NaN   \n",
      "11568                    37.41                  -121.94             NaN   \n",
      "14814                    37.40                  -121.95             NaN   \n",
      "16067                    37.40                  -121.95             NaN   \n",
      "17179                    37.40                  -121.94             NaN   \n",
      "...                        ...                      ...             ...   \n",
      "226208                   37.39                  -121.93             NaN   \n",
      "230020                   37.40                  -121.93             NaN   \n",
      "232901                   37.41                  -121.95             NaN   \n",
      "234606                   37.41                  -121.94             NaN   \n",
      "238139                   37.40                  -121.93             NaN   \n",
      "\n",
      "       end_station_name  end_station_latitude  end_station_longitude  bike_id  \\\n",
      "10983               NaN                 37.42                -121.96     4106   \n",
      "11568               NaN                 37.41                -121.94     4106   \n",
      "14814               NaN                 37.40                -121.94     4285   \n",
      "16067               NaN                 37.40                -121.95     4285   \n",
      "17179               NaN                 37.40                -121.94     4244   \n",
      "...                 ...                   ...                    ...      ...   \n",
      "226208              NaN                 37.40                -121.93     4211   \n",
      "230020              NaN                 37.40                -121.94     4270   \n",
      "232901              NaN                 37.40                -121.94     4098   \n",
      "234606              NaN                 37.41                -121.94     4098   \n",
      "238139              NaN                 37.39                -121.93     4211   \n",
      "\n",
      "         user_type  member_birth_year member_gender bike_share_for_all_trip  \n",
      "10983     Customer             1979.0        Female                      No  \n",
      "11568     Customer             1991.0          Male                      No  \n",
      "14814     Customer             1989.0        Female                      No  \n",
      "16067     Customer             1986.0          Male                      No  \n",
      "17179     Customer             1966.0        Female                      No  \n",
      "...            ...                ...           ...                     ...  \n",
      "226208  Subscriber             1986.0          Male                      No  \n",
      "230020    Customer             1995.0          Male                      No  \n",
      "232901    Customer             1991.0          Male                      No  \n",
      "234606    Customer             1991.0          Male                      No  \n",
      "238139  Subscriber             1983.0          Male                      No  \n",
      "\n",
      "[64 rows x 16 columns]\n"
     ]
    }
   ],
   "source": [
    "print(df[df[\"start_station_name\"].isnull()])"
   ]
  },
  {
   "cell_type": "code",
   "execution_count": 13,
   "id": "9189d93a-d628-476f-a6ac-a3b51a73df95",
   "metadata": {},
   "outputs": [],
   "source": [
    "df.dropna(subset=[\"start_station_name\", \"end_station_name\",\"end_station_id\", \"start_station_id\"], inplace=True)"
   ]
  },
  {
   "cell_type": "code",
   "execution_count": 15,
   "id": "05d0a8b7-010a-42a5-a727-a75c9a5f6c29",
   "metadata": {},
   "outputs": [
    {
     "name": "stdout",
     "output_type": "stream",
     "text": [
      "Empty DataFrame\n",
      "Columns: [duration_sec, start_time, end_time, start_station_id, start_station_name, start_station_latitude, start_station_longitude, end_station_id, end_station_name, end_station_latitude, end_station_longitude, bike_id, user_type, member_birth_year, member_gender, bike_share_for_all_trip]\n",
      "Index: []\n"
     ]
    }
   ],
   "source": [
    "print(df[df[\"start_station_name\"].isnull()])"
   ]
  },
  {
   "cell_type": "code",
   "execution_count": 17,
   "id": "8389410b-af4a-4607-b18c-6409449cebd4",
   "metadata": {},
   "outputs": [],
   "source": [
    "df.dropna(subset=[\"member_gender\",\"member_birth_year\"], inplace=True)\n"
   ]
  },
  {
   "cell_type": "code",
   "execution_count": 19,
   "id": "552be6f3-3ee6-47de-9377-e6eb68076c27",
   "metadata": {},
   "outputs": [
    {
     "name": "stdout",
     "output_type": "stream",
     "text": [
      "Duplicates: 0\n"
     ]
    }
   ],
   "source": [
    "print(\"Duplicates:\", df.duplicated().sum())"
   ]
  },
  {
   "cell_type": "code",
   "execution_count": 21,
   "id": "d9fc6411-93da-46e2-9e4f-009fc92db4a6",
   "metadata": {},
   "outputs": [
    {
     "name": "stdout",
     "output_type": "stream",
     "text": [
      "duration_sec                 int64\n",
      "start_time                  object\n",
      "end_time                    object\n",
      "start_station_id           float64\n",
      "start_station_name          object\n",
      "start_station_latitude     float64\n",
      "start_station_longitude    float64\n",
      "end_station_id             float64\n",
      "end_station_name            object\n",
      "end_station_latitude       float64\n",
      "end_station_longitude      float64\n",
      "bike_id                      int64\n",
      "user_type                   object\n",
      "member_birth_year          float64\n",
      "member_gender               object\n",
      "bike_share_for_all_trip     object\n",
      "dtype: object\n"
     ]
    }
   ],
   "source": [
    "print(df.dtypes)\n"
   ]
  },
  {
   "cell_type": "code",
   "execution_count": 82,
   "id": "4559ca9a-c7b5-44c3-baf2-88552974490c",
   "metadata": {},
   "outputs": [],
   "source": [
    "\n",
    "\n",
    "# Convert birth year to integer (handling missing values)\n",
    "df[\"member_birth_year\"] = pd.to_numeric(df[\"member_birth_year\"], errors=\"coerce\")\n",
    "df.dropna(subset=[\"member_birth_year\"], inplace=True)\n",
    "df[\"member_birth_year\"] = df[\"member_birth_year\"].astype(int)\n",
    "\n",
    "# Convert station IDs to integer (handling missing values)\n",
    "df[\"start_station_id\"] = pd.to_numeric(df[\"start_station_id\"], errors=\"coerce\").astype(\"Int64\")\n",
    "df[\"end_station_id\"] = pd.to_numeric(df[\"end_station_id\"], errors=\"coerce\").astype(\"Int64\")\n",
    "\n",
    "# Convert categorical columns\n",
    "df[\"user_type\"] = df[\"user_type\"].astype(\"category\")\n",
    "df[\"member_gender\"] = df[\"member_gender\"].astype(\"category\")\n",
    "df[\"bike_share_for_all_trip\"] = df[\"bike_share_for_all_trip\"].astype(\"category\")\n",
    "\n"
   ]
  },
  {
   "cell_type": "code",
   "execution_count": 84,
   "id": "083a89cd-b29a-41bd-8d30-88efd5b71966",
   "metadata": {},
   "outputs": [
    {
     "name": "stdout",
     "output_type": "stream",
     "text": [
      "<class 'pandas.core.frame.DataFrame'>\n",
      "Index: 227912 entries, 0 to 239110\n",
      "Data columns (total 16 columns):\n",
      " #   Column                   Non-Null Count   Dtype   \n",
      "---  ------                   --------------   -----   \n",
      " 0   duration_sec             227912 non-null  int64   \n",
      " 1   start_time               227912 non-null  object  \n",
      " 2   end_time                 227912 non-null  object  \n",
      " 3   start_station_id         227848 non-null  Int64   \n",
      " 4   start_station_name       227848 non-null  object  \n",
      " 5   start_station_latitude   227912 non-null  float64 \n",
      " 6   start_station_longitude  227912 non-null  float64 \n",
      " 7   end_station_id           227848 non-null  Int64   \n",
      " 8   end_station_name         227848 non-null  object  \n",
      " 9   end_station_latitude     227912 non-null  float64 \n",
      " 10  end_station_longitude    227912 non-null  float64 \n",
      " 11  bike_id                  227912 non-null  int64   \n",
      " 12  user_type                227912 non-null  category\n",
      " 13  member_birth_year        227912 non-null  int32   \n",
      " 14  member_gender            227912 non-null  category\n",
      " 15  bike_share_for_all_trip  227912 non-null  category\n",
      "dtypes: Int64(2), category(3), float64(4), int32(1), int64(2), object(4)\n",
      "memory usage: 24.6+ MB\n",
      "None\n",
      "        duration_sec  start_station_id  start_station_latitude  \\\n",
      "count  227912.000000          227848.0           227912.000000   \n",
      "mean      771.919728        142.381105               37.769042   \n",
      "std      1822.270774         116.21389                0.130010   \n",
      "min        61.000000               3.0                0.000000   \n",
      "25%       346.000000              47.0               37.770083   \n",
      "50%       553.000000             104.0               37.780760   \n",
      "75%       865.000000             240.0               37.797320   \n",
      "max     86114.000000             420.0               37.880222   \n",
      "\n",
      "       start_station_longitude  end_station_id  end_station_latitude  \\\n",
      "count            227912.000000        227848.0         227912.000000   \n",
      "mean               -122.351188      141.098772             37.766362   \n",
      "std                   0.283167      116.133177              0.351117   \n",
      "min                -122.453705             3.0              0.000000   \n",
      "25%                -122.413004            44.0             37.770407   \n",
      "50%                -122.398279           104.0             37.780955   \n",
      "75%                -122.288665           239.0             37.797673   \n",
      "max                   0.000000           420.0             37.880222   \n",
      "\n",
      "       end_station_longitude        bike_id  member_birth_year  \n",
      "count          227912.000000  227912.000000      227912.000000  \n",
      "mean             -122.341656    3680.191126        1984.863250  \n",
      "std                 1.093891    2180.517595           9.953144  \n",
      "min              -122.453705      11.000000        1878.000000  \n",
      "25%              -122.411738    1739.000000        1980.000000  \n",
      "50%              -122.397437    3495.000000        1987.000000  \n",
      "75%              -122.289415    5757.000000        1992.000000  \n",
      "max                 0.000000    7108.000000        2001.000000  \n",
      "   duration_sec start_time end_time  start_station_id  \\\n",
      "0         50305    33:55.2  32:20.5               368   \n",
      "2         78072    32:46.5  13:59.0                64   \n",
      "3         78969    00:51.5  57:01.3                67   \n",
      "4          1128    59:04.7  17:53.1               124   \n",
      "5          1388    53:06.0  16:14.3               243   \n",
      "\n",
      "                                  start_station_name  start_station_latitude  \\\n",
      "0                               Myrtle St at Polk St               37.785434   \n",
      "2                               5th St at Brannan St               37.776754   \n",
      "3  San Francisco Caltrain Station 2  (Townsend St...               37.776639   \n",
      "4                              19th St at Florida St               37.760447   \n",
      "5                        Bancroft Way at College Ave               37.869360   \n",
      "\n",
      "   start_station_longitude  end_station_id  \\\n",
      "0              -122.419622             324   \n",
      "2              -122.399018              64   \n",
      "3              -122.395526              89   \n",
      "4              -122.410807               5   \n",
      "5              -122.254337             247   \n",
      "\n",
      "                               end_station_name  end_station_latitude  \\\n",
      "0           Union Square (Powell St at Post St)             37.788300   \n",
      "2                          5th St at Brannan St             37.776754   \n",
      "3                    Division St at Potrero Ave             37.769218   \n",
      "4  Powell St BART Station (Market St at 5th St)             37.783899   \n",
      "5                     Fulton St at Bancroft Way             37.867789   \n",
      "\n",
      "   end_station_longitude  bike_id   user_type  member_birth_year  \\\n",
      "0            -122.408531     2749  Subscriber               1989   \n",
      "2            -122.399018      258  Subscriber               1993   \n",
      "3            -122.407646     1974  Subscriber               1972   \n",
      "4            -122.408445      877  Subscriber               1973   \n",
      "5            -122.265896     3234    Customer               1997   \n",
      "\n",
      "  member_gender bike_share_for_all_trip  \n",
      "0        Female                      No  \n",
      "2          Male                      No  \n",
      "3          Male                      No  \n",
      "4          Male                      No  \n",
      "5          Male                      No  \n"
     ]
    }
   ],
   "source": [
    "print(df.info())\n",
    "print(df.describe())\n",
    "print(df.head())"
   ]
  },
  {
   "cell_type": "code",
   "execution_count": 90,
   "id": "547d4ba2-762a-450f-87a0-a7cd10e77ea6",
   "metadata": {},
   "outputs": [
    {
     "name": "stdout",
     "output_type": "stream",
     "text": [
      " Average rider age: 39.14 years\n"
     ]
    }
   ],
   "source": [
    "df[\"age\"] = 2024 - df[\"member_birth_year\"]\n",
    "average_age = df[\"age\"].mean()\n",
    "print(f\" Average rider age: {average_age:.2f} years\")\n"
   ]
  },
  {
   "cell_type": "code",
   "execution_count": 92,
   "id": "f5c6179d-2bbb-4852-b52e-a6ee6bf27451",
   "metadata": {},
   "outputs": [
    {
     "name": "stderr",
     "output_type": "stream",
     "text": [
      "C:\\Users\\hp\\anaconda3\\Lib\\site-packages\\seaborn\\_oldcore.py:1119: FutureWarning: use_inf_as_na option is deprecated and will be removed in a future version. Convert inf values to NaN before operating instead.\n",
      "  with pd.option_context('mode.use_inf_as_na', True):\n"
     ]
    },
    {
     "data": {
      "image/png": "[encoded data removed]",
      "text/plain": [
       "<Figure size 1000x500 with 1 Axes>"
      ]
     },
     "metadata": {},
     "output_type": "display_data"
    }
   ],
   "source": [
    "import matplotlib.pyplot as plt\n",
    "import seaborn as sns\n",
    "\n",
    "# Plot histogram\n",
    "plt.figure(figsize=(10, 5))\n",
    "sns.histplot(df[\"age\"], bins=30, kde=True, color=\"royalblue\")\n",
    "\n",
    "# Titles and labels\n",
    "plt.title(\" Age Distribution of Bike Users\", fontsize=14)\n",
    "plt.xlabel(\"Age\", fontsize=12)\n",
    "plt.ylabel(\"Number of Riders\", fontsize=12)\n",
    "\n",
    "# Show the plot\n",
    "plt.show()\n"
   ]
  },
  {
   "cell_type": "code",
   "execution_count": 94,
   "id": "1be9ee0f-0ba0-4c39-bcf4-10b26d7e4709",
   "metadata": {},
   "outputs": [
    {
     "name": "stdout",
     "output_type": "stream",
     "text": [
      " Average trip duration: 12.87 minutes\n"
     ]
    }
   ],
   "source": [
    "average_trip_duration = df[\"duration_sec\"].mean() / 60 \n",
    "print(f\" Average trip duration: {average_trip_duration:.2f} minutes\")\n"
   ]
  },
  {
   "cell_type": "code",
   "execution_count": 96,
   "id": "b5a7894b-813c-48b9-831e-b2a4911e313e",
   "metadata": {},
   "outputs": [
    {
     "name": "stdout",
     "output_type": "stream",
     "text": [
      " Most frequent start station: San Francisco Caltrain Station 2  (Townsend St at 4th St)\n",
      " Most frequent end station: San Francisco Caltrain Station 2  (Townsend St at 4th St)\n"
     ]
    }
   ],
   "source": [
    "most_frequent_start = df[\"start_station_name\"].mode()[0]\n",
    "most_frequent_end = df[\"end_station_name\"].mode()[0]\n",
    "\n",
    "print(f\" Most frequent start station: {most_frequent_start}\")\n",
    "print(f\" Most frequent end station: {most_frequent_end}\")\n"
   ]
  },
  {
   "cell_type": "code",
   "execution_count": 98,
   "id": "5ad27391-e2cf-466d-8789-226b6b43bef9",
   "metadata": {},
   "outputs": [
    {
     "name": "stdout",
     "output_type": "stream",
     "text": [
      "member_gender\n",
      "Male      168140\n",
      "Female     55498\n",
      "Other       4274\n",
      "Name: count, dtype: int64\n"
     ]
    }
   ],
   "source": [
    "gender_counts = df[\"member_gender\"].value_counts()\n",
    "print(gender_counts)"
   ]
  },
  {
   "cell_type": "code",
   "execution_count": 123,
   "id": "d134650c-9c32-489d-a3c7-4df96387a50c",
   "metadata": {},
   "outputs": [
    {
     "name": "stdout",
     "output_type": "stream",
     "text": [
      " The most commonly used bike is 3750, used 139 times.\n"
     ]
    }
   ],
   "source": [
    "most_common_bike = df[\"bike_id\"].value_counts().idxmax()\n",
    "bike_usage_count = df[\"bike_id\"].value_counts().max()\n",
    "\n",
    "print(f\" The most commonly used bike is {most_common_bike}, used {bike_usage_count} times.\")\n"
   ]
  },
  {
   "cell_type": "code",
   "execution_count": 131,
   "id": "23698d85-839e-4098-97e5-069949d40ac3",
   "metadata": {},
   "outputs": [
    {
     "data": {
      "image/png": "[encoded data removed]",
      "text/plain": [
       "<Figure size 640x480 with 1 Axes>"
      ]
     },
     "metadata": {},
     "output_type": "display_data"
    },
    {
     "name": "stdout",
     "output_type": "stream",
     "text": [
      " Morning trips: 27942\n",
      " Evening trips: 26049\n"
     ]
    }
   ],
   "source": [
    "import pandas as pd\n",
    "import matplotlib.pyplot as plt\n",
    "df[\"start_time\"] = pd.to_datetime(df[\"start_time\"], errors=\"coerce\")\n",
    "df[\"hour\"] = df[\"start_time\"].dt.hour\n",
    "\n",
    "\n",
    "morning_trips = df[(df[\"hour\"] >= 5) & (df[\"hour\"] < 12)].shape[0]\n",
    "evening_trips = df[(df[\"hour\"] >= 17) & (df[\"hour\"] < 24)].shape[0]\n",
    "\n",
    "\n",
    "plt.bar([\"Morning (5 AM - 11 AM)\", \"Evening (5 PM - 11 PM)\"], [morning_trips, evening_trips], color=[\"blue\", \"orange\"])\n",
    "plt.xlabel(\"Time of Day\")\n",
    "plt.ylabel(\"Number of Trips\")\n",
    "plt.title(\"Bike Usage: Morning vs. Evening\")\n",
    "plt.show()\n",
    "\n",
    "print(f\" Morning trips: {morning_trips}\")\n",
    "print(f\" Evening trips: {evening_trips}\")\n"
   ]
  },
  {
   "cell_type": "code",
   "execution_count": 140,
   "id": "e2aee3b3-17fb-4e02-a813-7f5479a67631",
   "metadata": {},
   "outputs": [
    {
     "name": "stderr",
     "output_type": "stream",
     "text": [
      "C:\\Users\\hp\\AppData\\Local\\Temp\\ipykernel_15324\\952779190.py:4: FutureWarning: The default of observed=False is deprecated and will be changed to True in a future version of pandas. Pass observed=False to retain current behavior or observed=True to adopt the future default and silence this warning.\n",
      "  gender_trip_duration = df.groupby(\"member_gender\")[\"duration_sec\"].mean()\n"
     ]
    },
    {
     "data": {
      "image/png": "[encoded data removed]",
      "text/plain": [
       "<Figure size 640x480 with 1 Axes>"
      ]
     },
     "metadata": {},
     "output_type": "display_data"
    },
    {
     "name": "stdout",
     "output_type": "stream",
     "text": [
      "member_gender\n",
      "Female     875.889059\n",
      "Male       730.425598\n",
      "Other     1054.262518\n",
      "Name: duration_sec, dtype: float64\n"
     ]
    }
   ],
   "source": [
    "import matplotlib.pyplot as plt\n",
    "\n",
    "gender_trip_duration = df.groupby(\"member_gender\")[\"duration_sec\"].mean()\n",
    "\n",
    "gender_trip_duration.plot(kind=\"bar\", color=[\"blue\", \"orange\", \"green\"])\n",
    "plt.xlabel(\"Gender\")\n",
    "plt.ylabel(\"Average Trip Duration (seconds)\")\n",
    "plt.title(\"Average Trip Duration by Gender\")\n",
    "plt.show()\n",
    "\n",
    "print(gender_trip_duration)\n"
   ]
  },
  {
   "cell_type": "code",
   "execution_count": 117,
   "id": "666f273f-b752-4d81-8668-654a7b56afad",
   "metadata": {},
   "outputs": [
    {
     "name": "stdout",
     "output_type": "stream",
     "text": [
      "bike_share_for_all_trip\n",
      "No     13.024873\n",
      "Yes    11.263233\n",
      "Name: duration_sec, dtype: float64\n"
     ]
    },
    {
     "name": "stderr",
     "output_type": "stream",
     "text": [
      "C:\\Users\\hp\\AppData\\Local\\Temp\\ipykernel_15324\\1562040943.py:1: FutureWarning: The default of observed=False is deprecated and will be changed to True in a future version of pandas. Pass observed=False to retain current behavior or observed=True to adopt the future default and silence this warning.\n",
      "  user_duration = df.groupby(\"bike_share_for_all_trip\")[\"duration_sec\"].mean() / 60\n"
     ]
    }
   ],
   "source": [
    "user_duration = df.groupby(\"bike_share_for_all_trip\")[\"duration_sec\"].mean() / 60\n",
    "print(user_duration)\n"
   ]
  },
  {
   "cell_type": "code",
   "execution_count": 142,
   "id": "a433b7fd-1fe0-4850-9692-c463116c14a0",
   "metadata": {},
   "outputs": [
    {
     "name": "stdout",
     "output_type": "stream",
     "text": [
      "Top 5 Most Popular Start Stations:\n",
      "start_station_name\n",
      "San Francisco Caltrain Station 2  (Townsend St at 4th St)    4669\n",
      "Market St at 10th St                                         4288\n",
      "San Francisco Ferry Building (Harry Bridges Plaza)           3919\n",
      "Berry St at 4th St                                           3624\n",
      "Montgomery St BART Station (Market St at 2nd St)             3345\n",
      "Name: count, dtype: int64\n",
      "\n",
      "Top 5 Most Popular End Stations:\n",
      "end_station_name\n",
      "San Francisco Caltrain Station 2  (Townsend St at 4th St)    6792\n",
      "San Francisco Ferry Building (Harry Bridges Plaza)           4525\n",
      "Montgomery St BART Station (Market St at 2nd St)             4353\n",
      "Market St at 10th St                                         4328\n",
      "Berry St at 4th St                                           3550\n",
      "Name: count, dtype: int64\n"
     ]
    }
   ],
   "source": [
    "top_start_stations = df[\"start_station_name\"].value_counts().head(5)\n",
    "top_end_stations = df[\"end_station_name\"].value_counts().head(5)\n",
    "\n",
    "print(\"Top 5 Most Popular Start Stations:\")\n",
    "print(top_start_stations)\n",
    "\n",
    "print(\"\\nTop 5 Most Popular End Stations:\")\n",
    "print(top_end_stations)\n"
   ]
  },
  {
   "cell_type": "code",
   "execution_count": null,
   "id": "c0650234-4253-4264-af9c-ceeef7e6c835",
   "metadata": {},
   "outputs": [],
   "source": []
  }
 ],
 "metadata": {
  "kernelspec": {
   "display_name": "Python 3 (ipykernel)",
   "language": "python",
   "name": "python3"
  },
  "language_info": {
   "codemirror_mode": {
    "name": "ipython",
    "version": 3
   },
   "file_extension": ".py",
   "mimetype": "text/x-python",
   "name": "python",
   "nbconvert_exporter": "python",
   "pygments_lexer": "ipython3",
   "version": "3.11.7"
  }
 },
 "nbformat": 4,
 "nbformat_minor": 5
}
